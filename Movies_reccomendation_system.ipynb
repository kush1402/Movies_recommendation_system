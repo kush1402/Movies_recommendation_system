{
 "cells": [
  {
   "cell_type": "code",
   "execution_count": 9,
   "metadata": {},
   "outputs": [],
   "source": [
    "import pandas as pd\n",
    "import numpy as np\n",
    "import re\n",
    "import nltk\n",
    "pd.set_option('display.max_columns', None)"
   ]
  },
  {
   "cell_type": "code",
   "execution_count": null,
   "metadata": {},
   "outputs": [],
   "source": [
    "\n",
    "df = pd.read_csv(\"IMDB_Top250Engmovies2_OMDB_Detailed.csv\")\n",
    "df.head()"
   ]
  },
  {
   "cell_type": "code",
   "execution_count": 11,
   "metadata": {},
   "outputs": [
    {
     "data": {
      "text/plain": [
       "250"
      ]
     },
     "execution_count": 11,
     "metadata": {},
     "output_type": "execute_result"
    }
   ],
   "source": [
    "len(df)"
   ]
  },
  {
   "cell_type": "code",
   "execution_count": 12,
   "metadata": {},
   "outputs": [
    {
     "data": {
      "text/plain": [
       "'Two imprisoned men bond over a number of years, finding solace and eventual redemption through acts of common decency.'"
      ]
     },
     "execution_count": 12,
     "metadata": {},
     "output_type": "execute_result"
    }
   ],
   "source": [
    "df['Plot'][0]"
   ]
  },
  {
   "cell_type": "code",
   "execution_count": 13,
   "metadata": {},
   "outputs": [
    {
     "data": {
      "text/plain": [
       "0      two imprisoned men bond over a number of years...\n",
       "1      the aging patriarch of an organized crime dyna...\n",
       "2      the early life and career of vito corleone in ...\n",
       "3      when the menace known as the joker emerges fro...\n",
       "4      a jury holdout attempts to prevent a miscarria...\n",
       "                             ...                        \n",
       "245    the desperate life of a chronic alcoholic is f...\n",
       "246    a something supervising staff member of a resi...\n",
       "247    a newspaper editor uses every trick in the boo...\n",
       "248    an old man makes a long journey by lawn mover ...\n",
       "249    a mumbai teen reflects on his upbringing in th...\n",
       "Name: clean_plot, Length: 250, dtype: object"
      ]
     },
     "execution_count": 13,
     "metadata": {},
     "output_type": "execute_result"
    }
   ],
   "source": [
    "# convert lowercase and remove numbers, punctuations, spaces, etc.,\n",
    "df['clean_plot'] = df['Plot'].str.lower()\n",
    "df['clean_plot'] = df['clean_plot'].apply(lambda x: re.sub('[^a-zA-Z]', ' ', x))\n",
    "df['clean_plot'] = df['clean_plot'].apply(lambda x: re.sub('\\s+', ' ', x))\n",
    "df['clean_plot']"
   ]
  },
  {
   "cell_type": "code",
   "execution_count": null,
   "metadata": {},
   "outputs": [],
   "source": [
    "import nltk\n",
    "nltk.download('punkt')"
   ]
  },
  {
   "cell_type": "code",
   "execution_count": null,
   "metadata": {},
   "outputs": [],
   "source": [
    "# tokenize the sentence\n",
    "df['clean_plot'] = df['clean_plot'].apply(lambda x: nltk.word_tokenize(x))\n",
    "df['clean_plot']"
   ]
  },
  {
   "cell_type": "code",
   "execution_count": null,
   "metadata": {},
   "outputs": [],
   "source": [
    "import nltk\n",
    "nltk.download('stopwords')"
   ]
  },
  {
   "cell_type": "code",
   "execution_count": null,
   "metadata": {},
   "outputs": [],
   "source": [
    "# remove stopwords\n",
    "stop_words = nltk.corpus.stopwords.words('english')\n",
    "plot = []\n",
    "for sentence in df['clean_plot']:\n",
    "    temp = []\n",
    "    for word in sentence:\n",
    "        if word not in stop_words and len(word) >= 3:\n",
    "            temp.append(word)\n",
    "    plot.append(temp)\n",
    "plot[0]"
   ]
  },
  {
   "cell_type": "code",
   "execution_count": null,
   "metadata": {},
   "outputs": [],
   "source": [
    "df['clean_plot'] = plot\n",
    "\n",
    "df.head()"
   ]
  },
  {
   "cell_type": "code",
   "execution_count": null,
   "metadata": {},
   "outputs": [],
   "source": [
    "df['Genre'] = df['Genre'].apply(lambda x: x.split(','))\n",
    "df['Actors'] = df['Actors'].apply(lambda x: x.split(',')[:4])\n",
    "df['Director'] = df['Director'].apply(lambda x: x.split(','))"
   ]
  },
  {
   "cell_type": "code",
   "execution_count": null,
   "metadata": {},
   "outputs": [],
   "source": [
    "df['Actors'][0]"
   ]
  },
  {
   "cell_type": "code",
   "execution_count": null,
   "metadata": {},
   "outputs": [],
   "source": [
    "def clean(sentence):\n",
    "    temp = []\n",
    "    for word in sentence:\n",
    "        temp.append(word.lower().replace(' ', ''))\n",
    "    return temp"
   ]
  },
  {
   "cell_type": "code",
   "execution_count": null,
   "metadata": {},
   "outputs": [],
   "source": [
    "df['Genre'] = [clean(x) for x in df['Genre']]\n",
    "df['Actors'] = [clean(x) for x in df['Actors']]\n",
    "df['Director'] = [clean(x) for x in df['Director']]"
   ]
  },
  {
   "cell_type": "code",
   "execution_count": null,
   "metadata": {},
   "outputs": [],
   "source": [
    "df['Actors'][0]     "
   ]
  },
  {
   "cell_type": "code",
   "execution_count": null,
   "metadata": {},
   "outputs": [],
   "source": [
    "columns = ['clean_plot', 'Genre', 'Actors', 'Director']\n",
    "l = []\n",
    "for i in range(len(df)):\n",
    "    words = ''\n",
    "    for col in columns:\n",
    "        words += ' '.join(df[col][i]) + ' '\n",
    "    l.append(words)\n",
    "l"
   ]
  },
  {
   "cell_type": "code",
   "execution_count": null,
   "metadata": {},
   "outputs": [],
   "source": [
    "df['clean_input'] = l\n",
    "df = df[['Title', 'clean_input']]\n",
    "df.head()   "
   ]
  },
  {
   "cell_type": "code",
   "execution_count": null,
   "metadata": {},
   "outputs": [],
   "source": [
    "from sklearn.feature_extraction.text import TfidfVectorizer, CountVectorizer\n",
    "tfidf = TfidfVectorizer()\n",
    "features = tfidf.fit_transform(df['clean_input'])"
   ]
  },
  {
   "cell_type": "code",
   "execution_count": null,
   "metadata": {},
   "outputs": [],
   "source": [
    "# create cosine similarity matrix\n",
    "from sklearn.metrics.pairwise import cosine_similarity\n",
    "cosine_sim = cosine_similarity(features, features)\n",
    "print(cosine_sim)"
   ]
  },
  {
   "cell_type": "code",
   "execution_count": null,
   "metadata": {},
   "outputs": [],
   "source": [
    "index = pd.Series(df['Title'])\n",
    "index.head()"
   ]
  },
  {
   "cell_type": "code",
   "execution_count": null,
   "metadata": {},
   "outputs": [],
   "source": [
    "def recommend_movies(title):\n",
    "    movies = []\n",
    "    idx = index[index == title].index[0]\n",
    "    # print(idx)\n",
    "    score = pd.Series(cosine_sim[idx]).sort_values(ascending=False)\n",
    "    top10 = list(score.iloc[1:11].index)\n",
    "    # print(top10)\n",
    "    \n",
    "    for i in top10:\n",
    "        movies.append(df['Title'][i])\n",
    "    return (movies[0], movies[1], movies[2], movies[3], movies[4], movies[5], movies[6], movies[7], movies[8], movies[9])"
   ]
  },
  {
   "cell_type": "code",
   "execution_count": null,
   "metadata": {},
   "outputs": [],
   "source": [
    "recommend_movies('Strangers on a Train')"
   ]
  },
  {
   "cell_type": "code",
   "execution_count": null,
   "metadata": {},
   "outputs": [],
   "source": [
    "!pip install -q gradio\n",
    "import gradio as gr"
   ]
  },
  {
   "cell_type": "code",
   "execution_count": null,
   "metadata": {},
   "outputs": [],
   "source": [
    "reccomend = gr.Interface(\n",
    "    fn = recommend_movies,\n",
    "    inputs = \"text\",\n",
    "    outputs = [\"text\", \"text\", \"text\", \"text\", \"text\", \"text\", \"text\", \"text\", \"text\", \"text\"],\n",
    "    title = \"Predict your next binge\"\n",
    ")"
   ]
  },
  {
   "cell_type": "code",
   "execution_count": null,
   "metadata": {},
   "outputs": [],
   "source": [
    "reccomend.launch(debug=False)"
   ]
  }
 ],
 "metadata": {
  "kernelspec": {
   "display_name": "Python 3",
   "language": "python",
   "name": "python3"
  },
  "language_info": {
   "codemirror_mode": {
    "name": "ipython",
    "version": 3
   },
   "file_extension": ".py",
   "mimetype": "text/x-python",
   "name": "python",
   "nbconvert_exporter": "python",
   "pygments_lexer": "ipython3",
   "version": "3.11.3"
  },
  "orig_nbformat": 4
 },
 "nbformat": 4,
 "nbformat_minor": 2
}
